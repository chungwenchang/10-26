{
 "cells": [
  {
   "cell_type": "code",
   "execution_count": 3,
   "metadata": {
    "collapsed": false
   },
   "outputs": [
    {
     "data": {
      "text/plain": [
       "['說不定以後還會再看？別讓', '家中書滿為患', '這4種書', '請勇敢', '丟掉吧']"
      ]
     },
     "execution_count": 3,
     "metadata": {},
     "output_type": "execute_result"
    }
   ],
   "source": [
    "todos = '說不定以後還會再看？別讓,家中書滿為患,這4種書,請勇敢,丟掉吧'\n",
    "todos.split(',')"
   ]
  },
  {
   "cell_type": "code",
   "execution_count": 10,
   "metadata": {
    "collapsed": false
   },
   "outputs": [
    {
     "ename": "SyntaxError",
     "evalue": "EOL while scanning string literal (<ipython-input-10-5a52f785ea96>, line 1)",
     "output_type": "error",
     "traceback": [
      "\u001b[1;36m  File \u001b[1;32m\"<ipython-input-10-5a52f785ea96>\"\u001b[1;36m, line \u001b[1;32m1\u001b[0m\n\u001b[1;33m    poem = '''為什麼丟不掉？「說不定還會再看」是最主要的理由。但近藤反問，「在所有的藏書中，哪些你曾經看過第二次？」根據美國國家檔案管理協會（NARA）統計，1年沒碰的東西，會再度使用的機率只有1%，以此計算，就算每周讀1本書，會重讀的書很可能兩年也才1本左右。''''\u001b[0m\n\u001b[1;37m                                                                                                                                              ^\u001b[0m\n\u001b[1;31mSyntaxError\u001b[0m\u001b[1;31m:\u001b[0m EOL while scanning string literal\n"
     ]
    }
   ],
   "source": [
    "poem = '''為什麼丟不掉？「說不定還會再看」是最主要的理由。但近藤反問，「在所有的藏書中，哪些你曾經看過第二次？」根據美國國家檔案管理協會（NARA）統計，1年沒碰的東西，會再度使用的機率只有1%，以此計算，就算每周讀1本書，會重讀的書很可能兩年也才1本左右。''''"
   ]
  },
  {
   "cell_type": "code",
   "execution_count": null,
   "metadata": {
    "collapsed": false
   },
   "outputs": [],
   "source": []
  },
  {
   "cell_type": "code",
   "execution_count": 23,
   "metadata": {
    "collapsed": false
   },
   "outputs": [
    {
     "data": {
      "text/plain": [
       "255"
      ]
     },
     "execution_count": 23,
     "metadata": {},
     "output_type": "execute_result"
    }
   ],
   "source": [
    "import requests\n",
    "response=requests.get(\"http://www.novelscape.net/wxxs/j/jingyong/sdxl/004.htm\")\n",
    "response.encoding =\"big5\"\n",
    "book1=response.text\n",
    "word2=\"他\"\n",
    "book1.count(word2)"
   ]
  },
  {
   "cell_type": "code",
   "execution_count": null,
   "metadata": {
    "collapsed": false
   },
   "outputs": [],
   "source": []
  },
  {
   "cell_type": "code",
   "execution_count": null,
   "metadata": {
    "collapsed": true
   },
   "outputs": [],
   "source": []
  }
 ],
 "metadata": {
  "kernelspec": {
   "display_name": "Python 3",
   "language": "python",
   "name": "python3"
  },
  "language_info": {
   "codemirror_mode": {
    "name": "ipython",
    "version": 3
   },
   "file_extension": ".py",
   "mimetype": "text/x-python",
   "name": "python",
   "nbconvert_exporter": "python",
   "pygments_lexer": "ipython3",
   "version": "3.4.3"
  }
 },
 "nbformat": 4,
 "nbformat_minor": 0
}
